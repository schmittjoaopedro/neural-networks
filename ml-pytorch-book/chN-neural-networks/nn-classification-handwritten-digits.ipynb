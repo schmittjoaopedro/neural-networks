{
 "cells": [
  {
   "cell_type": "code",
   "execution_count": 1,
   "id": "initial_id",
   "metadata": {
    "collapsed": true,
    "ExecuteTime": {
     "end_time": "2024-09-14T17:26:27.956643Z",
     "start_time": "2024-09-14T17:26:25.908522Z"
    }
   },
   "outputs": [],
   "source": [
    "import torchvision\n",
    "from torchvision import transforms\n",
    "image_path = './'\n",
    "transform = transforms.Compose([\n",
    "    transforms.ToTensor()\n",
    "])\n",
    "mnist_train_dataset = torchvision.datasets.MNIST(\n",
    "    root=image_path, train=True,\n",
    "    transform=transform, download=False\n",
    ")\n",
    "mnist_test_dataset = torchvision.datasets.MNIST(\n",
    "    root=image_path, train=False,\n",
    "    transform=transform, download=False\n",
    ")\n",
    "batch_size = 64\n",
    "\n",
    "import torch\n",
    "from torch.utils.data import DataLoader\n",
    "torch.manual_seed(1)\n",
    "train_dl = DataLoader(mnist_train_dataset, batch_size, shuffle=True)"
   ]
  },
  {
   "cell_type": "code",
   "outputs": [
    {
     "data": {
      "text/plain": "Sequential(\n  (0): Flatten(start_dim=1, end_dim=-1)\n  (1): Linear(in_features=784, out_features=32, bias=True)\n  (2): ReLU()\n  (3): Linear(in_features=32, out_features=16, bias=True)\n  (4): ReLU()\n  (5): Linear(in_features=16, out_features=10, bias=True)\n)"
     },
     "execution_count": 2,
     "metadata": {},
     "output_type": "execute_result"
    }
   ],
   "source": [
    "from torch import nn\n",
    "\n",
    "hidden_units = [32, 16]\n",
    "image_size = mnist_train_dataset[0][0].shape\n",
    "input_size = image_size[0] * image_size[1] * image_size[2]\n",
    "all_layers = [nn.Flatten()]\n",
    "for hidden_unit in hidden_units:\n",
    "    layer = nn.Linear(input_size, hidden_unit)\n",
    "    all_layers.append(layer)\n",
    "    all_layers.append(nn.ReLU())\n",
    "    input_size = hidden_unit\n",
    "all_layers.append(nn.Linear(hidden_units[-1], 10))\n",
    "model = nn.Sequential(*all_layers)\n",
    "model"
   ],
   "metadata": {
    "collapsed": false,
    "ExecuteTime": {
     "end_time": "2024-09-14T17:28:19.681640Z",
     "start_time": "2024-09-14T17:28:19.666594Z"
    }
   },
   "id": "7b6daf9beb926e27",
   "execution_count": 2
  },
  {
   "cell_type": "code",
   "outputs": [
    {
     "name": "stdout",
     "output_type": "stream",
     "text": [
      "Epoch 0, Accuracy 0.8531\n",
      "Epoch 1, Accuracy 0.9287\n",
      "Epoch 2, Accuracy 0.9413\n",
      "Epoch 3, Accuracy 0.9506\n",
      "Epoch 4, Accuracy 0.9558\n",
      "Epoch 5, Accuracy 0.9592\n",
      "Epoch 6, Accuracy 0.9627\n",
      "Epoch 7, Accuracy 0.9649\n",
      "Epoch 8, Accuracy 0.9673\n",
      "Epoch 9, Accuracy 0.9690\n",
      "Epoch 10, Accuracy 0.9711\n",
      "Epoch 11, Accuracy 0.9729\n",
      "Epoch 12, Accuracy 0.9737\n",
      "Epoch 13, Accuracy 0.9747\n",
      "Epoch 14, Accuracy 0.9766\n",
      "Epoch 15, Accuracy 0.9778\n",
      "Epoch 16, Accuracy 0.9780\n",
      "Epoch 17, Accuracy 0.9798\n",
      "Epoch 18, Accuracy 0.9806\n",
      "Epoch 19, Accuracy 0.9816\n"
     ]
    }
   ],
   "source": [
    "loss_fn = nn.CrossEntropyLoss() # For multi-class classification\n",
    "optimizer = torch.optim.Adam(model.parameters(), lr=0.001)\n",
    "torch.manual_seed(1)\n",
    "num_epochs = 20\n",
    "for epoch in range(num_epochs):\n",
    "    accuracy_hist_train = 0\n",
    "    for x_batch, y_batch in train_dl:\n",
    "        pred = model(x_batch)\n",
    "        loss = loss_fn(pred, y_batch)\n",
    "        loss.backward()\n",
    "        optimizer.step()\n",
    "        optimizer.zero_grad()\n",
    "        is_correct = (torch.argmax(pred, dim=1) == y_batch).float()\n",
    "        accuracy_hist_train += is_correct.sum()\n",
    "    accuracy_hist_train /= len(train_dl.dataset)\n",
    "    print(f'Epoch {epoch}, Accuracy {accuracy_hist_train:.4f}')"
   ],
   "metadata": {
    "collapsed": false,
    "ExecuteTime": {
     "end_time": "2024-09-14T17:30:31.635349Z",
     "start_time": "2024-09-14T17:29:57.384145Z"
    }
   },
   "id": "f10d0ac644b034fa",
   "execution_count": 3
  },
  {
   "cell_type": "code",
   "outputs": [
    {
     "name": "stdout",
     "output_type": "stream",
     "text": [
      "Test accuracy: 0.9645\n"
     ]
    }
   ],
   "source": [
    "pred = model(mnist_test_dataset.data / 255.)\n",
    "is_correct = (torch.argmax(pred, dim=1) == mnist_test_dataset.targets).float()\n",
    "print(f'Test accuracy: {is_correct.mean():.4f}')"
   ],
   "metadata": {
    "collapsed": false,
    "ExecuteTime": {
     "end_time": "2024-09-14T17:30:47.230163Z",
     "start_time": "2024-09-14T17:30:47.160271Z"
    }
   },
   "id": "353609cf0985161a",
   "execution_count": 4
  }
 ],
 "metadata": {
  "kernelspec": {
   "display_name": "Python 3",
   "language": "python",
   "name": "python3"
  },
  "language_info": {
   "codemirror_mode": {
    "name": "ipython",
    "version": 2
   },
   "file_extension": ".py",
   "mimetype": "text/x-python",
   "name": "python",
   "nbconvert_exporter": "python",
   "pygments_lexer": "ipython2",
   "version": "2.7.6"
  }
 },
 "nbformat": 4,
 "nbformat_minor": 5
}
