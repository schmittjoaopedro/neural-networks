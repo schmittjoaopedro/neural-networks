{
 "cells": [
  {
   "cell_type": "code",
   "execution_count": 46,
   "id": "initial_id",
   "metadata": {
    "collapsed": true,
    "ExecuteTime": {
     "end_time": "2024-08-05T21:53:14.607909Z",
     "start_time": "2024-08-05T21:53:14.599811Z"
    }
   },
   "outputs": [],
   "source": [
    "from io import StringIO\n",
    "from sklearn.impute import SimpleImputer\n",
    "from sklearn.preprocessing import LabelEncoder\n",
    "from sklearn.preprocessing import OneHotEncoder\n",
    "from sklearn.compose import ColumnTransformer\n",
    "\n",
    "import pandas as pd\n",
    "import numpy as np"
   ]
  },
  {
   "cell_type": "markdown",
   "source": [
    "# Dealing with missing data"
   ],
   "metadata": {
    "collapsed": false
   },
   "id": "a8c696a7f42334e7"
  },
  {
   "cell_type": "code",
   "outputs": [
    {
     "data": {
      "text/plain": "      A     B     C    D\n0   1.0   2.0   3.0  4.0\n1   5.0   6.0   NaN  8.0\n2  10.0  11.0  12.0  NaN",
      "text/html": "<div>\n<style scoped>\n    .dataframe tbody tr th:only-of-type {\n        vertical-align: middle;\n    }\n\n    .dataframe tbody tr th {\n        vertical-align: top;\n    }\n\n    .dataframe thead th {\n        text-align: right;\n    }\n</style>\n<table border=\"1\" class=\"dataframe\">\n  <thead>\n    <tr style=\"text-align: right;\">\n      <th></th>\n      <th>A</th>\n      <th>B</th>\n      <th>C</th>\n      <th>D</th>\n    </tr>\n  </thead>\n  <tbody>\n    <tr>\n      <th>0</th>\n      <td>1.0</td>\n      <td>2.0</td>\n      <td>3.0</td>\n      <td>4.0</td>\n    </tr>\n    <tr>\n      <th>1</th>\n      <td>5.0</td>\n      <td>6.0</td>\n      <td>NaN</td>\n      <td>8.0</td>\n    </tr>\n    <tr>\n      <th>2</th>\n      <td>10.0</td>\n      <td>11.0</td>\n      <td>12.0</td>\n      <td>NaN</td>\n    </tr>\n  </tbody>\n</table>\n</div>"
     },
     "execution_count": 2,
     "metadata": {},
     "output_type": "execute_result"
    }
   ],
   "source": [
    "csv_data = \\\n",
    "    '''A,B,C,D\n",
    "    1.0,2.0,3.0,4.0\n",
    "    5.0,6.0,,8.0\n",
    "    10.0,11.0,12.0,'''\n",
    "\n",
    "df = pd.read_csv(StringIO(csv_data))\n",
    "df"
   ],
   "metadata": {
    "collapsed": false,
    "ExecuteTime": {
     "end_time": "2024-08-05T21:14:35.038514Z",
     "start_time": "2024-08-05T21:14:35.009339Z"
    }
   },
   "id": "932fbf88f415db15",
   "execution_count": 2
  },
  {
   "cell_type": "code",
   "outputs": [
    {
     "data": {
      "text/plain": "A    0\nB    0\nC    1\nD    1\ndtype: int64"
     },
     "execution_count": 5,
     "metadata": {},
     "output_type": "execute_result"
    }
   ],
   "source": [
    "# isnull() returns a dataset with boolean values, where True indicates a missing value\n",
    "# then we sum the number of missing values for each column\n",
    "df.isnull().sum()"
   ],
   "metadata": {
    "collapsed": false,
    "ExecuteTime": {
     "end_time": "2024-08-05T21:17:06.105738Z",
     "start_time": "2024-08-05T21:17:06.102517Z"
    }
   },
   "id": "cd279fb7a67c2031",
   "execution_count": 5
  },
  {
   "cell_type": "code",
   "outputs": [
    {
     "name": "stdout",
     "output_type": "stream",
     "text": [
      "[[ 1.  2.  3.  4.]\n",
      " [ 5.  6. nan  8.]\n",
      " [10. 11. 12. nan]]\n"
     ]
    }
   ],
   "source": [
    "# Returns numpy array from a dataset, most of scikit-learn functions expect numpy arrays\n",
    "print(df.values)"
   ],
   "metadata": {
    "collapsed": false,
    "ExecuteTime": {
     "end_time": "2024-08-05T21:19:00.646303Z",
     "start_time": "2024-08-05T21:19:00.644417Z"
    }
   },
   "id": "749a5d641d67f4a5",
   "execution_count": 9
  },
  {
   "cell_type": "code",
   "outputs": [
    {
     "name": "stdout",
     "output_type": "stream",
     "text": [
      "     A    B    C    D\n",
      "0  1.0  2.0  3.0  4.0\n",
      "      A     B\n",
      "0   1.0   2.0\n",
      "1   5.0   6.0\n",
      "2  10.0  11.0\n",
      "      A     B     C    D\n",
      "0   1.0   2.0   3.0  4.0\n",
      "1   5.0   6.0   NaN  8.0\n",
      "2  10.0  11.0  12.0  NaN\n",
      "     A    B    C    D\n",
      "0  1.0  2.0  3.0  4.0\n",
      "      A     B     C    D\n",
      "0   1.0   2.0   3.0  4.0\n",
      "2  10.0  11.0  12.0  NaN\n"
     ]
    }
   ],
   "source": [
    "# Remove missing values\n",
    "\n",
    "# remove rows/samples with missing values\n",
    "print(df.dropna(axis=0))\n",
    "\n",
    "# remove columns/features with missing values\n",
    "print(df.dropna(axis=1))\n",
    "\n",
    "# only removes columns if all rows for that column are NaN\n",
    "print(df.dropna(how='all'))\n",
    "\n",
    "# drop rows with fewer than 4 real values\n",
    "print(df.dropna(thresh=4))\n",
    "\n",
    "# drop rows where NaN appears in specific columns\n",
    "print(df.dropna(subset=['C']))"
   ],
   "metadata": {
    "collapsed": false,
    "ExecuteTime": {
     "end_time": "2024-08-05T21:22:19.473254Z",
     "start_time": "2024-08-05T21:22:19.463571Z"
    }
   },
   "id": "c2cdbff36205931d",
   "execution_count": 15
  },
  {
   "cell_type": "code",
   "outputs": [
    {
     "name": "stdout",
     "output_type": "stream",
     "text": [
      "[[ 1.   2.   3.   4. ]\n",
      " [ 5.   6.   7.5  8. ]\n",
      " [10.  11.  12.   6. ]]\n",
      "      A     B     C    D\n",
      "0   1.0   2.0   3.0  4.0\n",
      "1   5.0   6.0   7.5  8.0\n",
      "2  10.0  11.0  12.0  6.0\n"
     ]
    }
   ],
   "source": [
    "# Imputing missing values\n",
    "\n",
    "# A common method for imputing value is to use interpolation, like mean imputation (which inputs a value that is the mean of the column)\n",
    "# Other strategies are median and most_frequent\n",
    "# Most frequent is useful for categorical data, for example: missing colors\n",
    "imr = SimpleImputer(missing_values=np.nan, strategy='mean')\n",
    "imr = imr.fit(df.values)  # Notice the conversion of df to numpy array using df.values\n",
    "imputed_data = imr.transform(df.values)\n",
    "print(imputed_data)\n",
    "\n",
    "# A more convenient method using pandas\n",
    "print(df.fillna(df.mean()))"
   ],
   "metadata": {
    "collapsed": false,
    "ExecuteTime": {
     "end_time": "2024-08-05T21:28:04.165953Z",
     "start_time": "2024-08-05T21:28:04.161165Z"
    }
   },
   "id": "f14d77a9cc02a770",
   "execution_count": 23
  },
  {
   "cell_type": "markdown",
   "source": [
    "# Handling categorical data"
   ],
   "metadata": {
    "collapsed": false
   },
   "id": "8515d192c9a313d5"
  },
  {
   "cell_type": "code",
   "outputs": [
    {
     "data": {
      "text/plain": "   color size  price classlabel\n0  green    M   10.1     class2\n1    red    L   13.5     class1\n2   blue   XL   15.3     class2",
      "text/html": "<div>\n<style scoped>\n    .dataframe tbody tr th:only-of-type {\n        vertical-align: middle;\n    }\n\n    .dataframe tbody tr th {\n        vertical-align: top;\n    }\n\n    .dataframe thead th {\n        text-align: right;\n    }\n</style>\n<table border=\"1\" class=\"dataframe\">\n  <thead>\n    <tr style=\"text-align: right;\">\n      <th></th>\n      <th>color</th>\n      <th>size</th>\n      <th>price</th>\n      <th>classlabel</th>\n    </tr>\n  </thead>\n  <tbody>\n    <tr>\n      <th>0</th>\n      <td>green</td>\n      <td>M</td>\n      <td>10.1</td>\n      <td>class2</td>\n    </tr>\n    <tr>\n      <th>1</th>\n      <td>red</td>\n      <td>L</td>\n      <td>13.5</td>\n      <td>class1</td>\n    </tr>\n    <tr>\n      <th>2</th>\n      <td>blue</td>\n      <td>XL</td>\n      <td>15.3</td>\n      <td>class2</td>\n    </tr>\n  </tbody>\n</table>\n</div>"
     },
     "execution_count": 31,
     "metadata": {},
     "output_type": "execute_result"
    }
   ],
   "source": [
    "df = pd.DataFrame([\n",
    "    ['green', 'M', 10.1, 'class2'],\n",
    "    ['red', 'L', 13.5, 'class1'],\n",
    "    ['blue', 'XL', 15.3, 'class2']])\n",
    "# Color is a nominal feature (not order between the values)\n",
    "# Size is an ordinal feature (there is an order between the values)\n",
    "# Price is a numerical feature\n",
    "df.columns = ['color', 'size', 'price', 'classlabel']\n",
    "df"
   ],
   "metadata": {
    "collapsed": false,
    "ExecuteTime": {
     "end_time": "2024-08-05T21:43:03.907716Z",
     "start_time": "2024-08-05T21:43:03.902671Z"
    }
   },
   "id": "938ce2b597a292d",
   "execution_count": 31
  },
  {
   "cell_type": "code",
   "outputs": [
    {
     "data": {
      "text/plain": "   color  size  price classlabel\n0  green     1   10.1     class2\n1    red     2   13.5     class1\n2   blue     3   15.3     class2",
      "text/html": "<div>\n<style scoped>\n    .dataframe tbody tr th:only-of-type {\n        vertical-align: middle;\n    }\n\n    .dataframe tbody tr th {\n        vertical-align: top;\n    }\n\n    .dataframe thead th {\n        text-align: right;\n    }\n</style>\n<table border=\"1\" class=\"dataframe\">\n  <thead>\n    <tr style=\"text-align: right;\">\n      <th></th>\n      <th>color</th>\n      <th>size</th>\n      <th>price</th>\n      <th>classlabel</th>\n    </tr>\n  </thead>\n  <tbody>\n    <tr>\n      <th>0</th>\n      <td>green</td>\n      <td>1</td>\n      <td>10.1</td>\n      <td>class2</td>\n    </tr>\n    <tr>\n      <th>1</th>\n      <td>red</td>\n      <td>2</td>\n      <td>13.5</td>\n      <td>class1</td>\n    </tr>\n    <tr>\n      <th>2</th>\n      <td>blue</td>\n      <td>3</td>\n      <td>15.3</td>\n      <td>class2</td>\n    </tr>\n  </tbody>\n</table>\n</div>"
     },
     "execution_count": 25,
     "metadata": {},
     "output_type": "execute_result"
    }
   ],
   "source": [
    "# To handle nominal features, we need to convert them to some numerical representation with ordering\n",
    "size_mapping = {'XL': 3, 'L': 2, 'M': 1}  # because of the order we have to hard-code the mapping\n",
    "df['size'] = df['size'].map(size_mapping)\n",
    "df"
   ],
   "metadata": {
    "collapsed": false,
    "ExecuteTime": {
     "end_time": "2024-08-05T21:38:27.943944Z",
     "start_time": "2024-08-05T21:38:27.939471Z"
    }
   },
   "id": "5eb120089612766e",
   "execution_count": 25
  },
  {
   "cell_type": "code",
   "outputs": [
    {
     "data": {
      "text/plain": "0     M\n1     L\n2    XL\nName: size, dtype: object"
     },
     "execution_count": 26,
     "metadata": {},
     "output_type": "execute_result"
    }
   ],
   "source": [
    "# To reverse the mapping we can do\n",
    "inv_size_mapping = {v: k for k, v in size_mapping.items()}\n",
    "df['size'].map(inv_size_mapping)"
   ],
   "metadata": {
    "collapsed": false,
    "ExecuteTime": {
     "end_time": "2024-08-05T21:39:20.986821Z",
     "start_time": "2024-08-05T21:39:20.980275Z"
    }
   },
   "id": "ea33b7e00862aed7",
   "execution_count": 26
  },
  {
   "cell_type": "code",
   "outputs": [
    {
     "name": "stdout",
     "output_type": "stream",
     "text": [
      "Label mapping:\n",
      "    color size  price  classlabel\n",
      "0  green    M   10.1           1\n",
      "1    red    L   13.5           0\n",
      "2   blue   XL   15.3           1\n",
      "Revert mapping:\n",
      "    color size  price classlabel\n",
      "0  green    M   10.1     class2\n",
      "1    red    L   13.5     class1\n",
      "2   blue   XL   15.3     class2\n",
      "SciKit label mapping:\n",
      " [1 0 1]\n",
      "SciKit revert mapping:\n",
      " ['class2' 'class1' 'class2']\n"
     ]
    }
   ],
   "source": [
    "# For class labels we also need to convert, but classes are not ordinal, and so we don't need to worry about the order\n",
    "class_mapping = {label: idx for idx, label in enumerate(np.unique(df['classlabel']))}\n",
    "df['classlabel'] = df['classlabel'].map(class_mapping)\n",
    "print(\"Label mapping:\\n\", df)\n",
    "\n",
    "# and to reverse the mapping\n",
    "inv_class_mapping = {v: k for k, v in class_mapping.items()}\n",
    "df['classlabel'] = df['classlabel'].map(inv_class_mapping)\n",
    "print(\"Revert mapping:\\n\", df)\n",
    "\n",
    "# Convenient function from scikit-learn\n",
    "class_le = LabelEncoder()\n",
    "y = class_le.fit_transform(df['classlabel'].values)  # A shortcut from calling fit and transform separately\n",
    "print(\"SciKit label mapping:\\n\", y)\n",
    "print(\"SciKit revert mapping:\\n\", class_le.inverse_transform(y))"
   ],
   "metadata": {
    "collapsed": false,
    "ExecuteTime": {
     "end_time": "2024-08-05T21:46:13.836937Z",
     "start_time": "2024-08-05T21:46:13.831443Z"
    }
   },
   "id": "eb15b744e74c1452",
   "execution_count": 40
  },
  {
   "cell_type": "code",
   "outputs": [
    {
     "name": "stdout",
     "output_type": "stream",
     "text": [
      "Original\n",
      " [['green' 'M' 10.1]\n",
      " ['red' 'L' 13.5]\n",
      " ['blue' 'XL' 15.3]]\n",
      "Encoded\n",
      " [[1 'M' 10.1]\n",
      " [2 'L' 13.5]\n",
      " [0 'XL' 15.3]]\n",
      "One hot for colors column only\n",
      " [[0. 1. 0.]\n",
      " [0. 0. 1.]\n",
      " [1. 0. 0.]]\n",
      "One hot in dataset\n",
      " [[0.0 1.0 0.0 'M' 10.1]\n",
      " [0.0 0.0 1.0 'L' 13.5]\n",
      " [1.0 0.0 0.0 'XL' 15.3]]\n",
      "Pandas:\n",
      "    price  color_blue  color_green  color_red  size_L  size_M  size_XL\n",
      "0   10.1       False         True      False   False    True    False\n",
      "1   13.5       False        False       True    True   False    False\n",
      "2   15.3        True        False      False   False   False     True\n",
      "Pandas without multi-collinearity:\n",
      "    price  color_green  color_red  size_M  size_XL\n",
      "0   10.1         True      False    True    False\n",
      "1   13.5        False       True   False    False\n",
      "2   15.3        False      False   False     True\n"
     ]
    }
   ],
   "source": [
    "# One-hot encoding\n",
    "X = df[['color', 'size', 'price']].values\n",
    "color_le = LabelEncoder()\n",
    "print(\"Original\\n\", X)\n",
    "\n",
    "X[:, 0] = color_le.fit_transform(X[:, 0])\n",
    "print(\"Encoded\\n\", X)\n",
    "\n",
    "# Using the encoded data for colors will confuse the algorithm by thinking \n",
    "# these values are ordinal (have order) when in reality they don't\n",
    "# A common technique to handle this is to use one-hot encoding\n",
    "color_ohe = OneHotEncoder() # To handle multi-collinearity use: categories='auto', drop='first'\n",
    "print(\"One hot for colors column only\\n\", color_ohe.fit_transform(X[:, 0].reshape(-1, 1)).toarray())\n",
    "\n",
    "# Modifying with one-hot a dataset\n",
    "X = df[['color', 'size', 'price']].values\n",
    "c_transf = ColumnTransformer([\n",
    "    ('one_hot', OneHotEncoder(), [0]),  # Modify only the first column\n",
    "    ('nothing', 'passthrough', [1, 2])  # Do nothing to the other columns\n",
    "])\n",
    "print(\"One hot in dataset\\n\", c_transf.fit_transform(X))\n",
    "\n",
    "# Even more convenient is pd.get_dummies, which automatically applies for all string columns\n",
    "print(\"Pandas:\\n\", pd.get_dummies(df[['price', 'color', 'size']]))\n",
    "\n",
    "# To avoid multi-collinearity which is a problem that raises during matrix multiplicate with many columns which are\n",
    "# dependent on each other we can remove the first column of the one-hot encoding\n",
    "print(\"Pandas without multi-collinearity:\\n\", pd.get_dummies(df[['price', 'color', 'size']], drop_first=True))"
   ],
   "metadata": {
    "collapsed": false,
    "ExecuteTime": {
     "end_time": "2024-08-05T21:58:34.672366Z",
     "start_time": "2024-08-05T21:58:34.660256Z"
    }
   },
   "id": "3c115021185441d8",
   "execution_count": 51
  }
 ],
 "metadata": {
  "kernelspec": {
   "display_name": "Python 3",
   "language": "python",
   "name": "python3"
  },
  "language_info": {
   "codemirror_mode": {
    "name": "ipython",
    "version": 2
   },
   "file_extension": ".py",
   "mimetype": "text/x-python",
   "name": "python",
   "nbconvert_exporter": "python",
   "pygments_lexer": "ipython2",
   "version": "2.7.6"
  }
 },
 "nbformat": 4,
 "nbformat_minor": 5
}
