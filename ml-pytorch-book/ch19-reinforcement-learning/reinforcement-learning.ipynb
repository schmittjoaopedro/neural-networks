{
 "cells": [
  {
   "cell_type": "markdown",
   "source": [
    "# Reinforcement Learning for Grid World Problem\n",
    "\n",
    "Grid world is a two-dimensional, cell-based environment where the agent moves in four directions to collect as much reward as possible"
   ],
   "metadata": {
    "collapsed": false
   },
   "id": "1079b673f77d7057"
  },
  {
   "cell_type": "code",
   "outputs": [
    {
     "name": "stdout",
     "output_type": "stream",
     "text": [
      "Requirement already satisfied: gym==0.26.2 in /Users/joaopedroschmitt/.pyenv/versions/3.12.0/lib/python3.12/site-packages (0.26.2)\r\n",
      "Requirement already satisfied: numpy>=1.18.0 in /Users/joaopedroschmitt/.pyenv/versions/3.12.0/lib/python3.12/site-packages (from gym==0.26.2) (1.26.4)\r\n",
      "Requirement already satisfied: cloudpickle>=1.2.0 in /Users/joaopedroschmitt/.pyenv/versions/3.12.0/lib/python3.12/site-packages (from gym==0.26.2) (3.0.0)\r\n",
      "Requirement already satisfied: gym-notices>=0.0.4 in /Users/joaopedroschmitt/.pyenv/versions/3.12.0/lib/python3.12/site-packages (from gym==0.26.2) (0.0.8)\r\n",
      "\r\n",
      "\u001B[1m[\u001B[0m\u001B[34;49mnotice\u001B[0m\u001B[1;39;49m]\u001B[0m\u001B[39;49m A new release of pip is available: \u001B[0m\u001B[31;49m23.2.1\u001B[0m\u001B[39;49m -> \u001B[0m\u001B[32;49m24.2\u001B[0m\r\n",
      "\u001B[1m[\u001B[0m\u001B[34;49mnotice\u001B[0m\u001B[1;39;49m]\u001B[0m\u001B[39;49m To update, run: \u001B[0m\u001B[32;49mpython3.12 -m pip install --upgrade pip\u001B[0m\r\n"
     ]
    }
   ],
   "source": [
    "# Install OpenAI Gym toolkit\n",
    "!pip install gym==0.26.2"
   ],
   "metadata": {
    "collapsed": false,
    "ExecuteTime": {
     "end_time": "2024-10-04T02:21:23.947154Z",
     "start_time": "2024-10-04T02:21:21.697007Z"
    }
   },
   "id": "f41d815a28a9c682",
   "execution_count": 3
  },
  {
   "cell_type": "markdown",
   "source": [
    "# Simple Cart Pole Demonstration"
   ],
   "metadata": {
    "collapsed": false
   },
   "id": "f7b77323e61e80eb"
  },
  {
   "cell_type": "code",
   "outputs": [
    {
     "name": "stdout",
     "output_type": "stream",
     "text": [
      "Action Space:\n",
      " Discrete(2) \n",
      "\n",
      "Observation space:\n",
      " Box([-4.8000002e+00 -3.4028235e+38 -4.1887903e-01 -3.4028235e+38], [4.8000002e+00 3.4028235e+38 4.1887903e-01 3.4028235e+38], (4,), float32) \n",
      "\n",
      "Reset:\n",
      " (array([ 0.04663543,  0.01802553, -0.00358646,  0.02504626], dtype=float32), {}) \n"
     ]
    }
   ],
   "source": [
    "import gym\n",
    "\n",
    "# https://www.gymlibrary.dev/environments/classic_control/cart_pole/\n",
    "env = gym.make('CartPole-v1', render_mode=\"rgb_array\")\n",
    "\n",
    "# Action 0, push cart to the left\n",
    "# Action 1, push cart to the right\n",
    "print(\"Action Space:\\n\", env.action_space, \"\\n\")\n",
    "\n",
    "# 4-dimensional array\n",
    "# Dim1 = cart position\n",
    "# Dim2 = cart velocity\n",
    "# Dim3 = pole angle\n",
    "# Dim4 = pole angular velocity\n",
    "print(\"Observation space:\\n\", env.observation_space, \"\\n\")\n",
    "\n",
    "# Reinitialize the environment, set pole's state to S_0. Every reset sets this\n",
    "# array to random numbers within the range [-0.05, 0.05]\n",
    "# arr[0] = cart position\n",
    "# arr[1] = cart velocity\n",
    "# arr[2] = pole angle radians\n",
    "# arr[3] = pole angular velocity\n",
    "print(\"Reset:\\n\", env.reset(), \"\\n\")"
   ],
   "metadata": {
    "collapsed": false,
    "ExecuteTime": {
     "end_time": "2024-10-04T02:45:22.175484Z",
     "start_time": "2024-10-04T02:45:20.819086Z"
    }
   },
   "id": "894f31c0c9c5cf7b",
   "execution_count": 1
  },
  {
   "cell_type": "code",
   "outputs": [
    {
     "data": {
      "text/plain": "<Figure size 640x480 with 1 Axes>",
      "image/png": "[encoded data removed]"
     },
     "metadata": {},
     "output_type": "display_data"
    }
   ],
   "source": [
    "import matplotlib.pyplot as plt\n",
    "from IPython import display\n",
    "\n",
    "# Interaction returns 4 values\n",
    "# Observation, Reward, Terminated, Extra info\n",
    "for i in range(25):\n",
    "    plt.imshow(env.render())\n",
    "    display.display(plt.gcf())\n",
    "    display.clear_output(wait=True)\n",
    "    env.step(env.action_space.sample())\n",
    "\n",
    "env.close()"
   ],
   "metadata": {
    "collapsed": false
   },
   "id": "f320cb774b32a29c",
   "execution_count": 2
  }
 ],
 "metadata": {
  "kernelspec": {
   "display_name": "Python 3",
   "language": "python",
   "name": "python3"
  },
  "language_info": {
   "codemirror_mode": {
    "name": "ipython",
    "version": 2
   },
   "file_extension": ".py",
   "mimetype": "text/x-python",
   "name": "python",
   "nbconvert_exporter": "python",
   "pygments_lexer": "ipython2",
   "version": "2.7.6"
  }
 },
 "nbformat": 4,
 "nbformat_minor": 5
}
